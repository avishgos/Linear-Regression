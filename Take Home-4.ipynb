{
 "cells": [
  {
   "cell_type": "code",
   "execution_count": 1,
   "metadata": {},
   "outputs": [],
   "source": [
    "#importing Libraries\n",
    "import numpy as np\n",
    "import pandas as pd\n",
    "import matplotlib.pyplot as plt\n",
    "import seaborn as sns\n",
    "import scipy.stats as st"
   ]
  },
  {
   "cell_type": "code",
   "execution_count": 2,
   "metadata": {},
   "outputs": [],
   "source": [
    "#This is to display whole of the dataframe\n",
    "pd.options.display.max_rows = None\n",
    "pd.options.display.max_columns = None"
   ]
  },
  {
   "cell_type": "code",
   "execution_count": 3,
   "metadata": {},
   "outputs": [
    {
     "data": {
      "text/html": [
       "<div>\n",
       "<style scoped>\n",
       "    .dataframe tbody tr th:only-of-type {\n",
       "        vertical-align: middle;\n",
       "    }\n",
       "\n",
       "    .dataframe tbody tr th {\n",
       "        vertical-align: top;\n",
       "    }\n",
       "\n",
       "    .dataframe thead th {\n",
       "        text-align: right;\n",
       "    }\n",
       "</style>\n",
       "<table border=\"1\" class=\"dataframe\">\n",
       "  <thead>\n",
       "    <tr style=\"text-align: right;\">\n",
       "      <th></th>\n",
       "      <th>mpg</th>\n",
       "      <th>cyl</th>\n",
       "      <th>disp</th>\n",
       "      <th>hp</th>\n",
       "      <th>wt</th>\n",
       "      <th>acc</th>\n",
       "      <th>yr</th>\n",
       "      <th>origin</th>\n",
       "      <th>car_name</th>\n",
       "    </tr>\n",
       "  </thead>\n",
       "  <tbody>\n",
       "    <tr>\n",
       "      <th>358</th>\n",
       "      <td>31.6</td>\n",
       "      <td>4</td>\n",
       "      <td>120.0</td>\n",
       "      <td>74</td>\n",
       "      <td>2635</td>\n",
       "      <td>18.3</td>\n",
       "      <td>81</td>\n",
       "      <td>3</td>\n",
       "      <td>mazda 626</td>\n",
       "    </tr>\n",
       "    <tr>\n",
       "      <th>16</th>\n",
       "      <td>18.0</td>\n",
       "      <td>6</td>\n",
       "      <td>199.0</td>\n",
       "      <td>97</td>\n",
       "      <td>2774</td>\n",
       "      <td>15.5</td>\n",
       "      <td>70</td>\n",
       "      <td>1</td>\n",
       "      <td>amc hornet</td>\n",
       "    </tr>\n",
       "    <tr>\n",
       "      <th>292</th>\n",
       "      <td>18.5</td>\n",
       "      <td>8</td>\n",
       "      <td>360.0</td>\n",
       "      <td>150</td>\n",
       "      <td>3940</td>\n",
       "      <td>13.0</td>\n",
       "      <td>79</td>\n",
       "      <td>1</td>\n",
       "      <td>chrysler lebaron town @ country (sw)</td>\n",
       "    </tr>\n",
       "    <tr>\n",
       "      <th>81</th>\n",
       "      <td>28.0</td>\n",
       "      <td>4</td>\n",
       "      <td>97.0</td>\n",
       "      <td>92</td>\n",
       "      <td>2288</td>\n",
       "      <td>17.0</td>\n",
       "      <td>72</td>\n",
       "      <td>3</td>\n",
       "      <td>datsun 510 (sw)</td>\n",
       "    </tr>\n",
       "    <tr>\n",
       "      <th>112</th>\n",
       "      <td>19.0</td>\n",
       "      <td>4</td>\n",
       "      <td>122.0</td>\n",
       "      <td>85</td>\n",
       "      <td>2310</td>\n",
       "      <td>18.5</td>\n",
       "      <td>73</td>\n",
       "      <td>1</td>\n",
       "      <td>ford pinto</td>\n",
       "    </tr>\n",
       "  </tbody>\n",
       "</table>\n",
       "</div>"
      ],
      "text/plain": [
       "      mpg  cyl   disp   hp    wt   acc  yr  origin  \\\n",
       "358  31.6    4  120.0   74  2635  18.3  81       3   \n",
       "16   18.0    6  199.0   97  2774  15.5  70       1   \n",
       "292  18.5    8  360.0  150  3940  13.0  79       1   \n",
       "81   28.0    4   97.0   92  2288  17.0  72       3   \n",
       "112  19.0    4  122.0   85  2310  18.5  73       1   \n",
       "\n",
       "                                 car_name  \n",
       "358                             mazda 626  \n",
       "16                             amc hornet  \n",
       "292  chrysler lebaron town @ country (sw)  \n",
       "81                        datsun 510 (sw)  \n",
       "112                            ford pinto  "
      ]
     },
     "execution_count": 3,
     "metadata": {},
     "output_type": "execute_result"
    }
   ],
   "source": [
    "#Loading the Data\n",
    "df = pd.read_csv('car-mpg.csv')\n",
    "df = df.sample(frac = 1,random_state = 3)\n",
    "df.head()"
   ]
  },
  {
   "cell_type": "code",
   "execution_count": 4,
   "metadata": {},
   "outputs": [
    {
     "data": {
      "text/plain": [
       "array(['74', '97', '150', '92', '85', '80', '110', '132', '145', '46',\n",
       "       '170', '100', '152', '72', '70', '68', '75', '120', '95', '153',\n",
       "       '86', '108', '90', '140', '82', '76', '64', '138', '88', '129',\n",
       "       '230', '52', '?', '84', '210', '60', '122', '130', '96', '78',\n",
       "       '65', '66', '81', '112', '67', '113', '58', '180', '48', '54',\n",
       "       '165', '198', '69', '115', '105', '148', '215', '208', '98', '63',\n",
       "       '139', '83', '190', '155', '71', '220', '79', '87', '135', '77',\n",
       "       '125', '53', '116', '175', '89', '225', '160', '102', '137', '61',\n",
       "       '62', '142', '158', '167', '149', '49', '107', '103', '193', '94',\n",
       "       '93', '200', '91', '133'], dtype=object)"
      ]
     },
     "execution_count": 4,
     "metadata": {},
     "output_type": "execute_result"
    }
   ],
   "source": [
    "#Finding the unqiue values\n",
    "df.hp.unique()\n",
    "\n",
    "#here we see there is '?' here."
   ]
  },
  {
   "cell_type": "code",
   "execution_count": 5,
   "metadata": {},
   "outputs": [
    {
     "data": {
      "text/plain": [
       "(398, 9)"
      ]
     },
     "execution_count": 5,
     "metadata": {},
     "output_type": "execute_result"
    }
   ],
   "source": [
    "#To check the shape of Dataframe\n",
    "df.shape"
   ]
  },
  {
   "cell_type": "code",
   "execution_count": 6,
   "metadata": {},
   "outputs": [
    {
     "name": "stdout",
     "output_type": "stream",
     "text": [
      "<class 'pandas.core.frame.DataFrame'>\n",
      "Int64Index: 398 entries, 358 to 362\n",
      "Data columns (total 9 columns):\n",
      "mpg         398 non-null float64\n",
      "cyl         398 non-null int64\n",
      "disp        398 non-null float64\n",
      "hp          398 non-null object\n",
      "wt          398 non-null int64\n",
      "acc         398 non-null float64\n",
      "yr          398 non-null int64\n",
      "origin      398 non-null int64\n",
      "car_name    398 non-null object\n",
      "dtypes: float64(3), int64(4), object(2)\n",
      "memory usage: 31.1+ KB\n"
     ]
    }
   ],
   "source": [
    "#To check the data-type of the dataframe\n",
    "df.info()"
   ]
  },
  {
   "cell_type": "markdown",
   "metadata": {},
   "source": [
    "# Checking Missing Values"
   ]
  },
  {
   "cell_type": "code",
   "execution_count": 7,
   "metadata": {},
   "outputs": [
    {
     "data": {
      "text/plain": [
       "mpg         0\n",
       "cyl         0\n",
       "disp        0\n",
       "hp          0\n",
       "wt          0\n",
       "acc         0\n",
       "yr          0\n",
       "origin      0\n",
       "car_name    0\n",
       "dtype: int64"
      ]
     },
     "execution_count": 7,
     "metadata": {},
     "output_type": "execute_result"
    }
   ],
   "source": [
    "df.isna().sum()"
   ]
  },
  {
   "cell_type": "markdown",
   "metadata": {},
   "source": [
    "No missing Values"
   ]
  },
  {
   "cell_type": "markdown",
   "metadata": {},
   "source": [
    "# Cleaning Data\n",
    "#hp"
   ]
  },
  {
   "cell_type": "markdown",
   "metadata": {},
   "source": [
    "# Removing ? from hp and converting its data type to INT"
   ]
  },
  {
   "cell_type": "code",
   "execution_count": 8,
   "metadata": {},
   "outputs": [],
   "source": [
    "df['hp'] = df['hp'].replace('?',np.nan)"
   ]
  },
  {
   "cell_type": "code",
   "execution_count": 9,
   "metadata": {},
   "outputs": [],
   "source": [
    "df['hp'] = df['hp'].astype(float)"
   ]
  },
  {
   "cell_type": "code",
   "execution_count": 10,
   "metadata": {},
   "outputs": [],
   "source": [
    "df['hp'] = df['hp'].replace(np.nan,df['hp'].mean())"
   ]
  },
  {
   "cell_type": "code",
   "execution_count": 11,
   "metadata": {},
   "outputs": [],
   "source": [
    "df['hp'] = df['hp'].astype(int)"
   ]
  },
  {
   "cell_type": "markdown",
   "metadata": {},
   "source": [
    "# Check for Outliers"
   ]
  },
  {
   "cell_type": "code",
   "execution_count": 12,
   "metadata": {},
   "outputs": [
    {
     "data": {
      "text/plain": [
       "<matplotlib.axes._subplots.AxesSubplot at 0x16463109eb8>"
      ]
     },
     "execution_count": 12,
     "metadata": {},
     "output_type": "execute_result"
    },
    {
     "data": {
      "image/png": "[encoded data removed]",
      "text/plain": [
       "<Figure size 432x288 with 1 Axes>"
      ]
     },
     "metadata": {
      "needs_background": "light"
     },
     "output_type": "display_data"
    }
   ],
   "source": [
    "sns.boxplot(df.hp)\n"
   ]
  },
  {
   "cell_type": "markdown",
   "metadata": {},
   "source": [
    "We see there are outliers in hp"
   ]
  },
  {
   "cell_type": "code",
   "execution_count": 13,
   "metadata": {},
   "outputs": [
    {
     "name": "stdout",
     "output_type": "stream",
     "text": [
      "198.5\n"
     ]
    }
   ],
   "source": [
    "Q1 = df['hp'].quantile(0.25)\n",
    "Q3 = df['hp'].quantile(0.75)\n",
    "IQR = Q3-Q1\n",
    "IQR\n",
    "\n",
    "upper = Q3 + 1.5*IQR\n",
    "print(upper)\n",
    "\n",
    "c_df = df[df['hp']<upper]"
   ]
  },
  {
   "cell_type": "code",
   "execution_count": 14,
   "metadata": {},
   "outputs": [
    {
     "data": {
      "text/plain": [
       "<matplotlib.axes._subplots.AxesSubplot at 0x16463411320>"
      ]
     },
     "execution_count": 14,
     "metadata": {},
     "output_type": "execute_result"
    },
    {
     "data": {
      "image/png": "[encoded data removed]",
      "text/plain": [
       "<Figure size 432x288 with 1 Axes>"
      ]
     },
     "metadata": {
      "needs_background": "light"
     },
     "output_type": "display_data"
    }
   ],
   "source": [
    "sns.boxplot(c_df.hp)"
   ]
  },
  {
   "cell_type": "markdown",
   "metadata": {},
   "source": [
    "# Building Statistical Model"
   ]
  },
  {
   "cell_type": "code",
   "execution_count": 15,
   "metadata": {},
   "outputs": [],
   "source": [
    "import statsmodels.api as sm"
   ]
  },
  {
   "cell_type": "code",
   "execution_count": 16,
   "metadata": {},
   "outputs": [],
   "source": [
    "c_df = c_df.drop('car_name',axis = 1)"
   ]
  },
  {
   "cell_type": "code",
   "execution_count": 17,
   "metadata": {},
   "outputs": [
    {
     "name": "stderr",
     "output_type": "stream",
     "text": [
      "C:\\Users\\Avish\\Anaconda3\\lib\\site-packages\\numpy\\core\\fromnumeric.py:2495: FutureWarning: Method .ptp is deprecated and will be removed in a future version. Use numpy.ptp instead.\n",
      "  return ptp(axis=axis, out=out, **kwargs)\n"
     ]
    }
   ],
   "source": [
    "y = c_df['mpg']\n",
    "X = c_df.drop('mpg',axis = 1)\n",
    "Xc = sm.add_constant(X)"
   ]
  },
  {
   "cell_type": "code",
   "execution_count": 18,
   "metadata": {},
   "outputs": [],
   "source": [
    "from statsmodels.stats.outliers_influence import variance_inflation_factor as vif"
   ]
  },
  {
   "cell_type": "code",
   "execution_count": 19,
   "metadata": {},
   "outputs": [
    {
     "data": {
      "text/html": [
       "<div>\n",
       "<style scoped>\n",
       "    .dataframe tbody tr th:only-of-type {\n",
       "        vertical-align: middle;\n",
       "    }\n",
       "\n",
       "    .dataframe tbody tr th {\n",
       "        vertical-align: top;\n",
       "    }\n",
       "\n",
       "    .dataframe thead th {\n",
       "        text-align: right;\n",
       "    }\n",
       "</style>\n",
       "<table border=\"1\" class=\"dataframe\">\n",
       "  <thead>\n",
       "    <tr style=\"text-align: right;\">\n",
       "      <th></th>\n",
       "      <th>VIF</th>\n",
       "    </tr>\n",
       "  </thead>\n",
       "  <tbody>\n",
       "    <tr>\n",
       "      <th>const</th>\n",
       "      <td>748.795215</td>\n",
       "    </tr>\n",
       "    <tr>\n",
       "      <th>cyl</th>\n",
       "      <td>11.737632</td>\n",
       "    </tr>\n",
       "    <tr>\n",
       "      <th>disp</th>\n",
       "      <td>24.050919</td>\n",
       "    </tr>\n",
       "    <tr>\n",
       "      <th>hp</th>\n",
       "      <td>9.798302</td>\n",
       "    </tr>\n",
       "    <tr>\n",
       "      <th>wt</th>\n",
       "      <td>12.494324</td>\n",
       "    </tr>\n",
       "    <tr>\n",
       "      <th>acc</th>\n",
       "      <td>2.643679</td>\n",
       "    </tr>\n",
       "    <tr>\n",
       "      <th>yr</th>\n",
       "      <td>1.181244</td>\n",
       "    </tr>\n",
       "    <tr>\n",
       "      <th>origin</th>\n",
       "      <td>1.735350</td>\n",
       "    </tr>\n",
       "  </tbody>\n",
       "</table>\n",
       "</div>"
      ],
      "text/plain": [
       "               VIF\n",
       "const   748.795215\n",
       "cyl      11.737632\n",
       "disp     24.050919\n",
       "hp        9.798302\n",
       "wt       12.494324\n",
       "acc       2.643679\n",
       "yr        1.181244\n",
       "origin    1.735350"
      ]
     },
     "execution_count": 19,
     "metadata": {},
     "output_type": "execute_result"
    }
   ],
   "source": [
    "pd.DataFrame([vif(Xc.values,i) for i in range(Xc.shape[1])],index = Xc.columns,columns=['VIF'])"
   ]
  },
  {
   "cell_type": "code",
   "execution_count": 20,
   "metadata": {},
   "outputs": [
    {
     "data": {
      "text/html": [
       "<table class=\"simpletable\">\n",
       "<caption>OLS Regression Results</caption>\n",
       "<tr>\n",
       "  <th>Dep. Variable:</th>           <td>mpg</td>       <th>  R-squared:         </th> <td>   0.816</td> \n",
       "</tr>\n",
       "<tr>\n",
       "  <th>Model:</th>                   <td>OLS</td>       <th>  Adj. R-squared:    </th> <td>   0.812</td> \n",
       "</tr>\n",
       "<tr>\n",
       "  <th>Method:</th>             <td>Least Squares</td>  <th>  F-statistic:       </th> <td>   239.7</td> \n",
       "</tr>\n",
       "<tr>\n",
       "  <th>Date:</th>             <td>Fri, 20 Mar 2020</td> <th>  Prob (F-statistic):</th> <td>5.68e-135</td>\n",
       "</tr>\n",
       "<tr>\n",
       "  <th>Time:</th>                 <td>13:23:55</td>     <th>  Log-Likelihood:    </th> <td> -1011.2</td> \n",
       "</tr>\n",
       "<tr>\n",
       "  <th>No. Observations:</th>      <td>   387</td>      <th>  AIC:               </th> <td>   2038.</td> \n",
       "</tr>\n",
       "<tr>\n",
       "  <th>Df Residuals:</th>          <td>   379</td>      <th>  BIC:               </th> <td>   2070.</td> \n",
       "</tr>\n",
       "<tr>\n",
       "  <th>Df Model:</th>              <td>     7</td>      <th>                     </th>     <td> </td>    \n",
       "</tr>\n",
       "<tr>\n",
       "  <th>Covariance Type:</th>      <td>nonrobust</td>    <th>                     </th>     <td> </td>    \n",
       "</tr>\n",
       "</table>\n",
       "<table class=\"simpletable\">\n",
       "<tr>\n",
       "     <td></td>       <th>coef</th>     <th>std err</th>      <th>t</th>      <th>P>|t|</th>  <th>[0.025</th>    <th>0.975]</th>  \n",
       "</tr>\n",
       "<tr>\n",
       "  <th>const</th>  <td>  -16.9747</td> <td>    4.639</td> <td>   -3.659</td> <td> 0.000</td> <td>  -26.095</td> <td>   -7.854</td>\n",
       "</tr>\n",
       "<tr>\n",
       "  <th>cyl</th>    <td>   -0.2039</td> <td>    0.348</td> <td>   -0.585</td> <td> 0.559</td> <td>   -0.889</td> <td>    0.481</td>\n",
       "</tr>\n",
       "<tr>\n",
       "  <th>disp</th>   <td>    0.0168</td> <td>    0.008</td> <td>    1.989</td> <td> 0.047</td> <td>    0.000</td> <td>    0.033</td>\n",
       "</tr>\n",
       "<tr>\n",
       "  <th>hp</th>     <td>   -0.0277</td> <td>    0.016</td> <td>   -1.750</td> <td> 0.081</td> <td>   -0.059</td> <td>    0.003</td>\n",
       "</tr>\n",
       "<tr>\n",
       "  <th>wt</th>     <td>   -0.0065</td> <td>    0.001</td> <td>   -8.919</td> <td> 0.000</td> <td>   -0.008</td> <td>   -0.005</td>\n",
       "</tr>\n",
       "<tr>\n",
       "  <th>acc</th>    <td>    0.0523</td> <td>    0.103</td> <td>    0.506</td> <td> 0.613</td> <td>   -0.151</td> <td>    0.256</td>\n",
       "</tr>\n",
       "<tr>\n",
       "  <th>yr</th>     <td>    0.7567</td> <td>    0.051</td> <td>   14.945</td> <td> 0.000</td> <td>    0.657</td> <td>    0.856</td>\n",
       "</tr>\n",
       "<tr>\n",
       "  <th>origin</th> <td>    1.3921</td> <td>    0.277</td> <td>    5.027</td> <td> 0.000</td> <td>    0.848</td> <td>    1.937</td>\n",
       "</tr>\n",
       "</table>\n",
       "<table class=\"simpletable\">\n",
       "<tr>\n",
       "  <th>Omnibus:</th>       <td>30.261</td> <th>  Durbin-Watson:     </th> <td>   1.984</td>\n",
       "</tr>\n",
       "<tr>\n",
       "  <th>Prob(Omnibus):</th> <td> 0.000</td> <th>  Jarque-Bera (JB):  </th> <td>  46.378</td>\n",
       "</tr>\n",
       "<tr>\n",
       "  <th>Skew:</th>          <td> 0.540</td> <th>  Prob(JB):          </th> <td>8.50e-11</td>\n",
       "</tr>\n",
       "<tr>\n",
       "  <th>Kurtosis:</th>      <td> 4.308</td> <th>  Cond. No.          </th> <td>8.35e+04</td>\n",
       "</tr>\n",
       "</table><br/><br/>Warnings:<br/>[1] Standard Errors assume that the covariance matrix of the errors is correctly specified.<br/>[2] The condition number is large, 8.35e+04. This might indicate that there are<br/>strong multicollinearity or other numerical problems."
      ],
      "text/plain": [
       "<class 'statsmodels.iolib.summary.Summary'>\n",
       "\"\"\"\n",
       "                            OLS Regression Results                            \n",
       "==============================================================================\n",
       "Dep. Variable:                    mpg   R-squared:                       0.816\n",
       "Model:                            OLS   Adj. R-squared:                  0.812\n",
       "Method:                 Least Squares   F-statistic:                     239.7\n",
       "Date:                Fri, 20 Mar 2020   Prob (F-statistic):          5.68e-135\n",
       "Time:                        13:23:55   Log-Likelihood:                -1011.2\n",
       "No. Observations:                 387   AIC:                             2038.\n",
       "Df Residuals:                     379   BIC:                             2070.\n",
       "Df Model:                           7                                         \n",
       "Covariance Type:            nonrobust                                         \n",
       "==============================================================================\n",
       "                 coef    std err          t      P>|t|      [0.025      0.975]\n",
       "------------------------------------------------------------------------------\n",
       "const        -16.9747      4.639     -3.659      0.000     -26.095      -7.854\n",
       "cyl           -0.2039      0.348     -0.585      0.559      -0.889       0.481\n",
       "disp           0.0168      0.008      1.989      0.047       0.000       0.033\n",
       "hp            -0.0277      0.016     -1.750      0.081      -0.059       0.003\n",
       "wt            -0.0065      0.001     -8.919      0.000      -0.008      -0.005\n",
       "acc            0.0523      0.103      0.506      0.613      -0.151       0.256\n",
       "yr             0.7567      0.051     14.945      0.000       0.657       0.856\n",
       "origin         1.3921      0.277      5.027      0.000       0.848       1.937\n",
       "==============================================================================\n",
       "Omnibus:                       30.261   Durbin-Watson:                   1.984\n",
       "Prob(Omnibus):                  0.000   Jarque-Bera (JB):               46.378\n",
       "Skew:                           0.540   Prob(JB):                     8.50e-11\n",
       "Kurtosis:                       4.308   Cond. No.                     8.35e+04\n",
       "==============================================================================\n",
       "\n",
       "Warnings:\n",
       "[1] Standard Errors assume that the covariance matrix of the errors is correctly specified.\n",
       "[2] The condition number is large, 8.35e+04. This might indicate that there are\n",
       "strong multicollinearity or other numerical problems.\n",
       "\"\"\""
      ]
     },
     "execution_count": 20,
     "metadata": {},
     "output_type": "execute_result"
    }
   ],
   "source": [
    "model = sm.OLS(y,Xc).fit()\n",
    "model.summary()"
   ]
  },
  {
   "cell_type": "markdown",
   "metadata": {},
   "source": [
    "Here we see that 'cyl' & 'hp' & 'acc' are features that is not significant."
   ]
  },
  {
   "cell_type": "code",
   "execution_count": 21,
   "metadata": {},
   "outputs": [
    {
     "data": {
      "text/html": [
       "<table class=\"simpletable\">\n",
       "<caption>OLS Regression Results</caption>\n",
       "<tr>\n",
       "  <th>Dep. Variable:</th>           <td>mpg</td>       <th>  R-squared:         </th> <td>   0.812</td> \n",
       "</tr>\n",
       "<tr>\n",
       "  <th>Model:</th>                   <td>OLS</td>       <th>  Adj. R-squared:    </th> <td>   0.810</td> \n",
       "</tr>\n",
       "<tr>\n",
       "  <th>Method:</th>             <td>Least Squares</td>  <th>  F-statistic:       </th> <td>   411.8</td> \n",
       "</tr>\n",
       "<tr>\n",
       "  <th>Date:</th>             <td>Fri, 20 Mar 2020</td> <th>  Prob (F-statistic):</th> <td>4.69e-137</td>\n",
       "</tr>\n",
       "<tr>\n",
       "  <th>Time:</th>                 <td>13:23:55</td>     <th>  Log-Likelihood:    </th> <td> -1015.4</td> \n",
       "</tr>\n",
       "<tr>\n",
       "  <th>No. Observations:</th>      <td>   387</td>      <th>  AIC:               </th> <td>   2041.</td> \n",
       "</tr>\n",
       "<tr>\n",
       "  <th>Df Residuals:</th>          <td>   382</td>      <th>  BIC:               </th> <td>   2061.</td> \n",
       "</tr>\n",
       "<tr>\n",
       "  <th>Df Model:</th>              <td>     4</td>      <th>                     </th>     <td> </td>    \n",
       "</tr>\n",
       "<tr>\n",
       "  <th>Covariance Type:</th>      <td>nonrobust</td>    <th>                     </th>     <td> </td>    \n",
       "</tr>\n",
       "</table>\n",
       "<table class=\"simpletable\">\n",
       "<tr>\n",
       "     <td></td>       <th>coef</th>     <th>std err</th>      <th>t</th>      <th>P>|t|</th>  <th>[0.025</th>    <th>0.975]</th>  \n",
       "</tr>\n",
       "<tr>\n",
       "  <th>const</th>  <td>  -18.7113</td> <td>    4.021</td> <td>   -4.653</td> <td> 0.000</td> <td>  -26.618</td> <td>  -10.804</td>\n",
       "</tr>\n",
       "<tr>\n",
       "  <th>disp</th>   <td>    0.0059</td> <td>    0.005</td> <td>    1.110</td> <td> 0.268</td> <td>   -0.005</td> <td>    0.016</td>\n",
       "</tr>\n",
       "<tr>\n",
       "  <th>wt</th>     <td>   -0.0068</td> <td>    0.001</td> <td>  -11.310</td> <td> 0.000</td> <td>   -0.008</td> <td>   -0.006</td>\n",
       "</tr>\n",
       "<tr>\n",
       "  <th>yr</th>     <td>    0.7810</td> <td>    0.050</td> <td>   15.643</td> <td> 0.000</td> <td>    0.683</td> <td>    0.879</td>\n",
       "</tr>\n",
       "<tr>\n",
       "  <th>origin</th> <td>    1.1846</td> <td>    0.268</td> <td>    4.418</td> <td> 0.000</td> <td>    0.657</td> <td>    1.712</td>\n",
       "</tr>\n",
       "</table>\n",
       "<table class=\"simpletable\">\n",
       "<tr>\n",
       "  <th>Omnibus:</th>       <td>37.154</td> <th>  Durbin-Watson:     </th> <td>   2.002</td>\n",
       "</tr>\n",
       "<tr>\n",
       "  <th>Prob(Omnibus):</th> <td> 0.000</td> <th>  Jarque-Bera (JB):  </th> <td>  68.138</td>\n",
       "</tr>\n",
       "<tr>\n",
       "  <th>Skew:</th>          <td> 0.574</td> <th>  Prob(JB):          </th> <td>1.60e-15</td>\n",
       "</tr>\n",
       "<tr>\n",
       "  <th>Kurtosis:</th>      <td> 4.705</td> <th>  Cond. No.          </th> <td>7.19e+04</td>\n",
       "</tr>\n",
       "</table><br/><br/>Warnings:<br/>[1] Standard Errors assume that the covariance matrix of the errors is correctly specified.<br/>[2] The condition number is large, 7.19e+04. This might indicate that there are<br/>strong multicollinearity or other numerical problems."
      ],
      "text/plain": [
       "<class 'statsmodels.iolib.summary.Summary'>\n",
       "\"\"\"\n",
       "                            OLS Regression Results                            \n",
       "==============================================================================\n",
       "Dep. Variable:                    mpg   R-squared:                       0.812\n",
       "Model:                            OLS   Adj. R-squared:                  0.810\n",
       "Method:                 Least Squares   F-statistic:                     411.8\n",
       "Date:                Fri, 20 Mar 2020   Prob (F-statistic):          4.69e-137\n",
       "Time:                        13:23:55   Log-Likelihood:                -1015.4\n",
       "No. Observations:                 387   AIC:                             2041.\n",
       "Df Residuals:                     382   BIC:                             2061.\n",
       "Df Model:                           4                                         \n",
       "Covariance Type:            nonrobust                                         \n",
       "==============================================================================\n",
       "                 coef    std err          t      P>|t|      [0.025      0.975]\n",
       "------------------------------------------------------------------------------\n",
       "const        -18.7113      4.021     -4.653      0.000     -26.618     -10.804\n",
       "disp           0.0059      0.005      1.110      0.268      -0.005       0.016\n",
       "wt            -0.0068      0.001    -11.310      0.000      -0.008      -0.006\n",
       "yr             0.7810      0.050     15.643      0.000       0.683       0.879\n",
       "origin         1.1846      0.268      4.418      0.000       0.657       1.712\n",
       "==============================================================================\n",
       "Omnibus:                       37.154   Durbin-Watson:                   2.002\n",
       "Prob(Omnibus):                  0.000   Jarque-Bera (JB):               68.138\n",
       "Skew:                           0.574   Prob(JB):                     1.60e-15\n",
       "Kurtosis:                       4.705   Cond. No.                     7.19e+04\n",
       "==============================================================================\n",
       "\n",
       "Warnings:\n",
       "[1] Standard Errors assume that the covariance matrix of the errors is correctly specified.\n",
       "[2] The condition number is large, 7.19e+04. This might indicate that there are\n",
       "strong multicollinearity or other numerical problems.\n",
       "\"\"\""
      ]
     },
     "execution_count": 21,
     "metadata": {},
     "output_type": "execute_result"
    }
   ],
   "source": [
    "#Drop cyl,hp,acc\n",
    "Xc = Xc.drop(['cyl','hp','acc'],axis = 1)\n",
    "model = sm.OLS(y,Xc).fit()\n",
    "model.summary()"
   ]
  },
  {
   "cell_type": "markdown",
   "metadata": {},
   "source": [
    "# Test of Assumptions"
   ]
  },
  {
   "cell_type": "markdown",
   "metadata": {},
   "source": [
    "# 1.Normality of Residuals"
   ]
  },
  {
   "cell_type": "code",
   "execution_count": 22,
   "metadata": {},
   "outputs": [
    {
     "data": {
      "text/plain": [
       "<matplotlib.axes._subplots.AxesSubplot at 0x16464fd96d8>"
      ]
     },
     "execution_count": 22,
     "metadata": {},
     "output_type": "execute_result"
    },
    {
     "data": {
      "image/png": "[encoded data removed]",
      "text/plain": [
       "<Figure size 432x288 with 1 Axes>"
      ]
     },
     "metadata": {
      "needs_background": "light"
     },
     "output_type": "display_data"
    }
   ],
   "source": [
    "from scipy.stats import norm\n",
    "norm.fit(model.resid)\n",
    "sns.distplot(model.resid,fit = norm)"
   ]
  },
  {
   "cell_type": "markdown",
   "metadata": {},
   "source": [
    "Almost normal"
   ]
  },
  {
   "cell_type": "code",
   "execution_count": 23,
   "metadata": {},
   "outputs": [
    {
     "data": {
      "image/png": "[encoded data removed]",
      "text/plain": [
       "<Figure size 432x288 with 1 Axes>"
      ]
     },
     "metadata": {
      "needs_background": "light"
     },
     "output_type": "display_data"
    }
   ],
   "source": [
    "import scipy.stats as st\n",
    "st.probplot(model.resid,plot = plt)\n",
    "plt.show()"
   ]
  },
  {
   "cell_type": "raw",
   "metadata": {},
   "source": [
    "#Ho: Data is normal\n",
    "#H1: Data is not normal"
   ]
  },
  {
   "cell_type": "code",
   "execution_count": 24,
   "metadata": {},
   "outputs": [
    {
     "data": {
      "text/plain": [
       "(68.13803511984695, 1.5543122344752192e-15)"
      ]
     },
     "execution_count": 24,
     "metadata": {},
     "output_type": "execute_result"
    }
   ],
   "source": [
    "#Jarque Bera Test to check normality\n",
    "st.jarque_bera(model.resid)"
   ]
  },
  {
   "cell_type": "markdown",
   "metadata": {},
   "source": [
    "pvalue very close to zero so reject Ho ,so JB test indicate that residual are not normal."
   ]
  },
  {
   "cell_type": "code",
   "execution_count": 25,
   "metadata": {},
   "outputs": [],
   "source": [
    "#Applying Transformation\n",
    "ly = np.log(y)"
   ]
  },
  {
   "cell_type": "code",
   "execution_count": 26,
   "metadata": {},
   "outputs": [
    {
     "data": {
      "text/html": [
       "<table class=\"simpletable\">\n",
       "<caption>OLS Regression Results</caption>\n",
       "<tr>\n",
       "  <th>Dep. Variable:</th>           <td>mpg</td>       <th>  R-squared:         </th> <td>   0.868</td> \n",
       "</tr>\n",
       "<tr>\n",
       "  <th>Model:</th>                   <td>OLS</td>       <th>  Adj. R-squared:    </th> <td>   0.867</td> \n",
       "</tr>\n",
       "<tr>\n",
       "  <th>Method:</th>             <td>Least Squares</td>  <th>  F-statistic:       </th> <td>   630.1</td> \n",
       "</tr>\n",
       "<tr>\n",
       "  <th>Date:</th>             <td>Fri, 20 Mar 2020</td> <th>  Prob (F-statistic):</th> <td>1.02e-166</td>\n",
       "</tr>\n",
       "<tr>\n",
       "  <th>Time:</th>                 <td>13:23:57</td>     <th>  Log-Likelihood:    </th> <td>  273.91</td> \n",
       "</tr>\n",
       "<tr>\n",
       "  <th>No. Observations:</th>      <td>   387</td>      <th>  AIC:               </th> <td>  -537.8</td> \n",
       "</tr>\n",
       "<tr>\n",
       "  <th>Df Residuals:</th>          <td>   382</td>      <th>  BIC:               </th> <td>  -518.0</td> \n",
       "</tr>\n",
       "<tr>\n",
       "  <th>Df Model:</th>              <td>     4</td>      <th>                     </th>     <td> </td>    \n",
       "</tr>\n",
       "<tr>\n",
       "  <th>Covariance Type:</th>      <td>nonrobust</td>    <th>                     </th>     <td> </td>    \n",
       "</tr>\n",
       "</table>\n",
       "<table class=\"simpletable\">\n",
       "<tr>\n",
       "     <td></td>       <th>coef</th>     <th>std err</th>      <th>t</th>      <th>P>|t|</th>  <th>[0.025</th>    <th>0.975]</th>  \n",
       "</tr>\n",
       "<tr>\n",
       "  <th>const</th>  <td>    1.5812</td> <td>    0.144</td> <td>   11.001</td> <td> 0.000</td> <td>    1.299</td> <td>    1.864</td>\n",
       "</tr>\n",
       "<tr>\n",
       "  <th>disp</th>   <td>   -0.0002</td> <td>    0.000</td> <td>   -0.874</td> <td> 0.383</td> <td>   -0.001</td> <td>    0.000</td>\n",
       "</tr>\n",
       "<tr>\n",
       "  <th>wt</th>     <td>   -0.0003</td> <td> 2.15e-05</td> <td>  -12.934</td> <td> 0.000</td> <td>   -0.000</td> <td>   -0.000</td>\n",
       "</tr>\n",
       "<tr>\n",
       "  <th>yr</th>     <td>    0.0307</td> <td>    0.002</td> <td>   17.200</td> <td> 0.000</td> <td>    0.027</td> <td>    0.034</td>\n",
       "</tr>\n",
       "<tr>\n",
       "  <th>origin</th> <td>    0.0279</td> <td>    0.010</td> <td>    2.908</td> <td> 0.004</td> <td>    0.009</td> <td>    0.047</td>\n",
       "</tr>\n",
       "</table>\n",
       "<table class=\"simpletable\">\n",
       "<tr>\n",
       "  <th>Omnibus:</th>       <td>11.035</td> <th>  Durbin-Watson:     </th> <td>   2.003</td>\n",
       "</tr>\n",
       "<tr>\n",
       "  <th>Prob(Omnibus):</th> <td> 0.004</td> <th>  Jarque-Bera (JB):  </th> <td>  18.689</td>\n",
       "</tr>\n",
       "<tr>\n",
       "  <th>Skew:</th>          <td>-0.146</td> <th>  Prob(JB):          </th> <td>8.74e-05</td>\n",
       "</tr>\n",
       "<tr>\n",
       "  <th>Kurtosis:</th>      <td> 4.036</td> <th>  Cond. No.          </th> <td>7.19e+04</td>\n",
       "</tr>\n",
       "</table><br/><br/>Warnings:<br/>[1] Standard Errors assume that the covariance matrix of the errors is correctly specified.<br/>[2] The condition number is large, 7.19e+04. This might indicate that there are<br/>strong multicollinearity or other numerical problems."
      ],
      "text/plain": [
       "<class 'statsmodels.iolib.summary.Summary'>\n",
       "\"\"\"\n",
       "                            OLS Regression Results                            \n",
       "==============================================================================\n",
       "Dep. Variable:                    mpg   R-squared:                       0.868\n",
       "Model:                            OLS   Adj. R-squared:                  0.867\n",
       "Method:                 Least Squares   F-statistic:                     630.1\n",
       "Date:                Fri, 20 Mar 2020   Prob (F-statistic):          1.02e-166\n",
       "Time:                        13:23:57   Log-Likelihood:                 273.91\n",
       "No. Observations:                 387   AIC:                            -537.8\n",
       "Df Residuals:                     382   BIC:                            -518.0\n",
       "Df Model:                           4                                         \n",
       "Covariance Type:            nonrobust                                         \n",
       "==============================================================================\n",
       "                 coef    std err          t      P>|t|      [0.025      0.975]\n",
       "------------------------------------------------------------------------------\n",
       "const          1.5812      0.144     11.001      0.000       1.299       1.864\n",
       "disp          -0.0002      0.000     -0.874      0.383      -0.001       0.000\n",
       "wt            -0.0003   2.15e-05    -12.934      0.000      -0.000      -0.000\n",
       "yr             0.0307      0.002     17.200      0.000       0.027       0.034\n",
       "origin         0.0279      0.010      2.908      0.004       0.009       0.047\n",
       "==============================================================================\n",
       "Omnibus:                       11.035   Durbin-Watson:                   2.003\n",
       "Prob(Omnibus):                  0.004   Jarque-Bera (JB):               18.689\n",
       "Skew:                          -0.146   Prob(JB):                     8.74e-05\n",
       "Kurtosis:                       4.036   Cond. No.                     7.19e+04\n",
       "==============================================================================\n",
       "\n",
       "Warnings:\n",
       "[1] Standard Errors assume that the covariance matrix of the errors is correctly specified.\n",
       "[2] The condition number is large, 7.19e+04. This might indicate that there are\n",
       "strong multicollinearity or other numerical problems.\n",
       "\"\"\""
      ]
     },
     "execution_count": 26,
     "metadata": {},
     "output_type": "execute_result"
    }
   ],
   "source": [
    "model = sm.OLS(ly,Xc).fit()\n",
    "model.summary()"
   ]
  },
  {
   "cell_type": "code",
   "execution_count": 27,
   "metadata": {},
   "outputs": [
    {
     "data": {
      "text/plain": [
       "(18.689121962915983, 8.743971430236197e-05)"
      ]
     },
     "execution_count": 27,
     "metadata": {},
     "output_type": "execute_result"
    }
   ],
   "source": [
    "#Ho: Data is normal\n",
    "#H1: Data is not normal\n",
    "\n",
    "#Jarque-Bera test\n",
    "st.jarque_bera(model.resid)"
   ]
  },
  {
   "cell_type": "markdown",
   "metadata": {},
   "source": [
    "p-value again closed to zero, so reject Ho. Hence Residuals are not normal"
   ]
  },
  {
   "cell_type": "markdown",
   "metadata": {},
   "source": [
    "# 2. Test Homoscedasticity"
   ]
  },
  {
   "cell_type": "code",
   "execution_count": 28,
   "metadata": {},
   "outputs": [
    {
     "data": {
      "text/plain": [
       "Text(0, 0.5, 'residuals')"
      ]
     },
     "execution_count": 28,
     "metadata": {},
     "output_type": "execute_result"
    },
    {
     "data": {
      "image/png": "[encoded data removed]",
      "text/plain": [
       "<Figure size 432x288 with 1 Axes>"
      ]
     },
     "metadata": {
      "needs_background": "light"
     },
     "output_type": "display_data"
    }
   ],
   "source": [
    "y_pred = model.predict(Xc)\n",
    "resids = model.resid\n",
    "\n",
    "sns.regplot(x = y_pred, y = resids,lowess=True,line_kws={'color':'red'})\n",
    "plt.xlabel('y_pred')\n",
    "plt.ylabel('residuals')"
   ]
  },
  {
   "cell_type": "code",
   "execution_count": 29,
   "metadata": {},
   "outputs": [
    {
     "name": "stdout",
     "output_type": "stream",
     "text": [
      "[('F-Stastistics', 1.3081550705778353), ('p-value', 0.03294726389096014)]\n"
     ]
    }
   ],
   "source": [
    "#Goldfeld Test for Checking Homoscedasticity\n",
    "\n",
    "import statsmodels.stats.api as sms\n",
    "from statsmodels.compat import lzip\n",
    "\n",
    "name = ['F-Stastistics','p-value']\n",
    "test = sms.het_goldfeldquandt(model.resid,model.model.exog)\n",
    "print(lzip(name,test))"
   ]
  },
  {
   "cell_type": "raw",
   "metadata": {},
   "source": [
    "Ho: Variance of residuals is constant across the range of data.\n",
    "H1: Variance of residuals is not constant across the range of data.\n",
    "    \n",
    "Since p-value is less than 0.05 we will reject the Ho to conclude that residuals are heteroscedastic."
   ]
  },
  {
   "cell_type": "markdown",
   "metadata": {},
   "source": [
    "# 3.Test of Autocorrelation"
   ]
  },
  {
   "cell_type": "code",
   "execution_count": 30,
   "metadata": {},
   "outputs": [],
   "source": [
    "y = df['mpg']\n",
    "X = df.drop('mpg',axis = 1)\n",
    "Xc = sm.add_constant(X)"
   ]
  },
  {
   "cell_type": "code",
   "execution_count": 32,
   "metadata": {
    "scrolled": true
   },
   "outputs": [
    {
     "name": "stderr",
     "output_type": "stream",
     "text": [
      "C:\\Users\\Avish\\Anaconda3\\lib\\site-packages\\ipykernel_launcher.py:3: UserWarning: Matplotlib is currently using module://ipykernel.pylab.backend_inline, which is a non-GUI backend, so cannot show the figure.\n",
      "  This is separate from the ipykernel package so we can avoid doing imports until\n"
     ]
    },
    {
     "data": {
      "image/png": "[encoded data removed]",
      "text/plain": [
       "<Figure size 432x288 with 1 Axes>"
      ]
     },
     "metadata": {
      "needs_background": "light"
     },
     "output_type": "display_data"
    }
   ],
   "source": [
    "import statsmodels.tsa.api as smt\n",
    "acf = smt.graphics.plot_acf(model.resid,lags = 30)\n",
    "acf.show()"
   ]
  },
  {
   "cell_type": "code",
   "execution_count": null,
   "metadata": {},
   "outputs": [],
   "source": []
  },
  {
   "cell_type": "code",
   "execution_count": null,
   "metadata": {},
   "outputs": [],
   "source": []
  },
  {
   "cell_type": "markdown",
   "metadata": {},
   "source": [
    "# 4. Test of Linearity"
   ]
  },
  {
   "cell_type": "code",
   "execution_count": 33,
   "metadata": {},
   "outputs": [],
   "source": [
    "y = df['mpg']\n",
    "X = df.drop('mpg',axis = 1)\n",
    "Xc = sm.add_constant(X)"
   ]
  },
  {
   "cell_type": "code",
   "execution_count": 35,
   "metadata": {
    "scrolled": true
   },
   "outputs": [],
   "source": [
    "import statsmodels.api as sm"
   ]
  },
  {
   "cell_type": "code",
   "execution_count": 37,
   "metadata": {},
   "outputs": [
    {
     "data": {
      "text/plain": [
       "Text(0, 0.5, 'residuals')"
      ]
     },
     "execution_count": 37,
     "metadata": {},
     "output_type": "execute_result"
    },
    {
     "data": {
      "image/png": "[encoded data removed]",
      "text/plain": [
       "<Figure size 432x288 with 1 Axes>"
      ]
     },
     "metadata": {
      "needs_background": "light"
     },
     "output_type": "display_data"
    }
   ],
   "source": [
    "sns.regplot(x = y_pred, y = resids,lowess=True,line_kws={'color':'red'})\n",
    "plt.xlabel('y_pred')\n",
    "plt.ylabel('residuals')"
   ]
  },
  {
   "cell_type": "markdown",
   "metadata": {},
   "source": [
    "# Rainbow Test for Linearity of Residuals\n"
   ]
  },
  {
   "cell_type": "code",
   "execution_count": 38,
   "metadata": {},
   "outputs": [
    {
     "data": {
      "text/plain": [
       "(1.133286681540497, 0.1943297197887019)"
      ]
     },
     "execution_count": 38,
     "metadata": {},
     "output_type": "execute_result"
    }
   ],
   "source": [
    "import statsmodels.api as sm\n",
    "sm.stats.diagnostic.linear_rainbow(res = model,frac=0.5)"
   ]
  },
  {
   "cell_type": "markdown",
   "metadata": {},
   "source": [
    "Ho: residuals exhibit linearity\n",
    "H1: residuals exhibit non-linearity\n",
    "Based on the test we can conclude that residuals exhibhit linearity."
   ]
  },
  {
   "cell_type": "markdown",
   "metadata": {},
   "source": [
    "# Feature Elimination"
   ]
  },
  {
   "cell_type": "markdown",
   "metadata": {},
   "source": [
    "# Recursive Feature Elimination(RFE)"
   ]
  },
  {
   "cell_type": "code",
   "execution_count": 43,
   "metadata": {},
   "outputs": [],
   "source": [
    "y = c_df['mpg']\n",
    "X = c_df.drop('mpg',axis = 1)"
   ]
  },
  {
   "cell_type": "code",
   "execution_count": 44,
   "metadata": {},
   "outputs": [],
   "source": [
    "from sklearn.linear_model import LinearRegression\n",
    "from sklearn.feature_selection import RFE\n",
    "from sklearn.metrics import r2_score,mean_squared_error"
   ]
  },
  {
   "cell_type": "code",
   "execution_count": 45,
   "metadata": {},
   "outputs": [
    {
     "data": {
      "text/plain": [
       "RFE(estimator=LinearRegression(copy_X=True, fit_intercept=True, n_jobs=None,\n",
       "                               normalize=False),\n",
       "    n_features_to_select=8, step=1, verbose=0)"
      ]
     },
     "execution_count": 45,
     "metadata": {},
     "output_type": "execute_result"
    }
   ],
   "source": [
    "lr = LinearRegression()\n",
    "rfe = RFE(lr,n_features_to_select = 8 )\n",
    "rfe.fit(X,y)\n",
    "\n",
    "#WE ASKED ALGORITHM TO TELL US WHICH FEATURE IS WORSE BY PUTTING 'n_features_to_select = 8"
   ]
  },
  {
   "cell_type": "code",
   "execution_count": 46,
   "metadata": {},
   "outputs": [
    {
     "data": {
      "text/plain": [
       "array([ True,  True,  True,  True,  True,  True,  True])"
      ]
     },
     "execution_count": 46,
     "metadata": {},
     "output_type": "execute_result"
    }
   ],
   "source": [
    "rfe.support_"
   ]
  },
  {
   "cell_type": "code",
   "execution_count": 47,
   "metadata": {},
   "outputs": [
    {
     "data": {
      "text/html": [
       "<div>\n",
       "<style scoped>\n",
       "    .dataframe tbody tr th:only-of-type {\n",
       "        vertical-align: middle;\n",
       "    }\n",
       "\n",
       "    .dataframe tbody tr th {\n",
       "        vertical-align: top;\n",
       "    }\n",
       "\n",
       "    .dataframe thead th {\n",
       "        text-align: right;\n",
       "    }\n",
       "</style>\n",
       "<table border=\"1\" class=\"dataframe\">\n",
       "  <thead>\n",
       "    <tr style=\"text-align: right;\">\n",
       "      <th></th>\n",
       "      <th>Select</th>\n",
       "    </tr>\n",
       "  </thead>\n",
       "  <tbody>\n",
       "    <tr>\n",
       "      <th>cyl</th>\n",
       "      <td>1</td>\n",
       "    </tr>\n",
       "    <tr>\n",
       "      <th>disp</th>\n",
       "      <td>1</td>\n",
       "    </tr>\n",
       "    <tr>\n",
       "      <th>hp</th>\n",
       "      <td>1</td>\n",
       "    </tr>\n",
       "    <tr>\n",
       "      <th>wt</th>\n",
       "      <td>1</td>\n",
       "    </tr>\n",
       "    <tr>\n",
       "      <th>acc</th>\n",
       "      <td>1</td>\n",
       "    </tr>\n",
       "    <tr>\n",
       "      <th>yr</th>\n",
       "      <td>1</td>\n",
       "    </tr>\n",
       "    <tr>\n",
       "      <th>origin</th>\n",
       "      <td>1</td>\n",
       "    </tr>\n",
       "  </tbody>\n",
       "</table>\n",
       "</div>"
      ],
      "text/plain": [
       "        Select\n",
       "cyl          1\n",
       "disp         1\n",
       "hp           1\n",
       "wt           1\n",
       "acc          1\n",
       "yr           1\n",
       "origin       1"
      ]
     },
     "execution_count": 47,
     "metadata": {},
     "output_type": "execute_result"
    }
   ],
   "source": [
    "pd.DataFrame(rfe.ranking_,index = X.columns, columns=['Select'])"
   ]
  },
  {
   "cell_type": "markdown",
   "metadata": {},
   "source": [
    "This will give 8 best features with rank 1 and rest features with subsequent ranks."
   ]
  },
  {
   "cell_type": "code",
   "execution_count": 48,
   "metadata": {},
   "outputs": [],
   "source": [
    "from sklearn.model_selection import train_test_split \n",
    "X_train, X_test, y_train, y_test = train_test_split(X, y, test_size=0.30, random_state=3)"
   ]
  },
  {
   "cell_type": "code",
   "execution_count": 49,
   "metadata": {},
   "outputs": [],
   "source": [
    "no_of_cols = X_train.shape[1]\n",
    "r2score = []\n",
    "rmse = []\n",
    "\n",
    "lr = LinearRegression()  #estimator\n",
    "for i in range(no_of_cols):\n",
    "    rfe = RFE(lr,n_features_to_select=i+1)\n",
    "    rfe.fit(X_train,y_train)\n",
    "    y_test_pred = rfe.predict(X_test)\n",
    "    \n",
    "    #for r2score\n",
    "    r2 = r2_score(y_test,y_test_pred)\n",
    "    r2score.append(r2)\n",
    "    \n",
    "    #for rmse\n",
    "    rms = np.sqrt(mean_squared_error(y_test,y_test_pred))\n",
    "    rmse.append(rms)\n",
    "    \n",
    "    "
   ]
  },
  {
   "cell_type": "code",
   "execution_count": 50,
   "metadata": {},
   "outputs": [
    {
     "data": {
      "text/plain": [
       "[<matplotlib.lines.Line2D at 0x16466b61710>]"
      ]
     },
     "execution_count": 50,
     "metadata": {},
     "output_type": "execute_result"
    },
    {
     "data": {
      "image/png": "[encoded data removed]",
      "text/plain": [
       "<Figure size 1080x648 with 1 Axes>"
      ]
     },
     "metadata": {},
     "output_type": "display_data"
    }
   ],
   "source": [
    "plt.plot(range(1,8),r2score)"
   ]
  },
  {
   "cell_type": "code",
   "execution_count": 51,
   "metadata": {},
   "outputs": [
    {
     "data": {
      "text/plain": [
       "[0.5677941618268199,\n",
       " 0.6153241497544213,\n",
       " 0.7401634144291,\n",
       " 0.7402610799200587,\n",
       " 0.796700689017784,\n",
       " 0.8036288278945516,\n",
       " 0.8243252534093657]"
      ]
     },
     "execution_count": 51,
     "metadata": {},
     "output_type": "execute_result"
    }
   ],
   "source": [
    "r2score"
   ]
  },
  {
   "cell_type": "code",
   "execution_count": 52,
   "metadata": {},
   "outputs": [
    {
     "data": {
      "text/plain": [
       "[<matplotlib.lines.Line2D at 0x164660a4780>]"
      ]
     },
     "execution_count": 52,
     "metadata": {},
     "output_type": "execute_result"
    },
    {
     "data": {
      "image/png": "[encoded data removed]",
      "text/plain": [
       "<Figure size 1080x648 with 1 Axes>"
      ]
     },
     "metadata": {},
     "output_type": "display_data"
    }
   ],
   "source": [
    "plt.plot(range(1,8),rmse)"
   ]
  },
  {
   "cell_type": "code",
   "execution_count": 53,
   "metadata": {},
   "outputs": [
    {
     "data": {
      "text/plain": [
       "[5.168471410078129,\n",
       " 4.876006377477098,\n",
       " 4.0074393113633535,\n",
       " 4.0066860969690925,\n",
       " 3.544743029350887,\n",
       " 3.4838196945826763,\n",
       " 3.295121794581949]"
      ]
     },
     "execution_count": 53,
     "metadata": {},
     "output_type": "execute_result"
    }
   ],
   "source": [
    "rmse"
   ]
  },
  {
   "cell_type": "markdown",
   "metadata": {},
   "source": [
    "# Hyperparamtere Tuning to find the optimal number of features to keep"
   ]
  },
  {
   "cell_type": "code",
   "execution_count": 54,
   "metadata": {},
   "outputs": [
    {
     "name": "stderr",
     "output_type": "stream",
     "text": [
      "C:\\Users\\Avish\\Anaconda3\\lib\\site-packages\\sklearn\\model_selection\\_split.py:296: FutureWarning: Setting a random_state has no effect since shuffle is False. This will raise an error in 0.24. You should leave random_state to its default (None), or set shuffle=True.\n",
      "  FutureWarning\n"
     ]
    },
    {
     "data": {
      "text/plain": [
       "GridSearchCV(cv=KFold(n_splits=3, random_state=3, shuffle=False),\n",
       "             error_score=nan,\n",
       "             estimator=RFE(estimator=LinearRegression(copy_X=True,\n",
       "                                                      fit_intercept=True,\n",
       "                                                      n_jobs=None,\n",
       "                                                      normalize=False),\n",
       "                           n_features_to_select=None, step=1, verbose=0),\n",
       "             iid='deprecated', n_jobs=None,\n",
       "             param_grid={'n_features_to_select': [1, 2, 3, 4, 5, 6, 7]},\n",
       "             pre_dispatch='2*n_jobs', refit=True, return_train_score=True,\n",
       "             scoring='r2', verbose=0)"
      ]
     },
     "execution_count": 54,
     "metadata": {},
     "output_type": "execute_result"
    }
   ],
   "source": [
    "from sklearn.model_selection import KFold,GridSearchCV\n",
    "\n",
    "params = {'n_features_to_select': list(range(1,8))}\n",
    "lr = LinearRegression()\n",
    "rfe = RFE(lr)\n",
    "\n",
    "kf = KFold(n_splits=3,random_state=3)\n",
    "\n",
    "gsearch = GridSearchCV(rfe,param_grid=params,scoring='r2',cv = kf,return_train_score=True)\n",
    "gsearch.fit(X,y)"
   ]
  },
  {
   "cell_type": "code",
   "execution_count": 55,
   "metadata": {},
   "outputs": [
    {
     "data": {
      "text/plain": [
       "{'n_features_to_select': 7}"
      ]
     },
     "execution_count": 55,
     "metadata": {},
     "output_type": "execute_result"
    }
   ],
   "source": [
    "gsearch.best_params_  #we found that hyperparameter tuning its telling us to  keep 7 features."
   ]
  },
  {
   "cell_type": "code",
   "execution_count": 56,
   "metadata": {},
   "outputs": [
    {
     "data": {
      "text/html": [
       "<div>\n",
       "<style scoped>\n",
       "    .dataframe tbody tr th:only-of-type {\n",
       "        vertical-align: middle;\n",
       "    }\n",
       "\n",
       "    .dataframe tbody tr th {\n",
       "        vertical-align: top;\n",
       "    }\n",
       "\n",
       "    .dataframe thead th {\n",
       "        text-align: right;\n",
       "    }\n",
       "</style>\n",
       "<table border=\"1\" class=\"dataframe\">\n",
       "  <thead>\n",
       "    <tr style=\"text-align: right;\">\n",
       "      <th></th>\n",
       "      <th>mean_fit_time</th>\n",
       "      <th>std_fit_time</th>\n",
       "      <th>mean_score_time</th>\n",
       "      <th>std_score_time</th>\n",
       "      <th>param_n_features_to_select</th>\n",
       "      <th>params</th>\n",
       "      <th>split0_test_score</th>\n",
       "      <th>split1_test_score</th>\n",
       "      <th>split2_test_score</th>\n",
       "      <th>mean_test_score</th>\n",
       "      <th>std_test_score</th>\n",
       "      <th>rank_test_score</th>\n",
       "      <th>split0_train_score</th>\n",
       "      <th>split1_train_score</th>\n",
       "      <th>split2_train_score</th>\n",
       "      <th>mean_train_score</th>\n",
       "      <th>std_train_score</th>\n",
       "    </tr>\n",
       "  </thead>\n",
       "  <tbody>\n",
       "    <tr>\n",
       "      <th>0</th>\n",
       "      <td>0.006318</td>\n",
       "      <td>4.713705e-04</td>\n",
       "      <td>0.000997</td>\n",
       "      <td>2.247832e-07</td>\n",
       "      <td>1</td>\n",
       "      <td>{'n_features_to_select': 1}</td>\n",
       "      <td>0.629961</td>\n",
       "      <td>0.528002</td>\n",
       "      <td>0.543494</td>\n",
       "      <td>0.567153</td>\n",
       "      <td>0.044861</td>\n",
       "      <td>7</td>\n",
       "      <td>0.547141</td>\n",
       "      <td>0.597118</td>\n",
       "      <td>0.599375</td>\n",
       "      <td>0.581211</td>\n",
       "      <td>0.024109</td>\n",
       "    </tr>\n",
       "    <tr>\n",
       "      <th>1</th>\n",
       "      <td>0.004987</td>\n",
       "      <td>1.123916e-07</td>\n",
       "      <td>0.000997</td>\n",
       "      <td>1.123916e-07</td>\n",
       "      <td>2</td>\n",
       "      <td>{'n_features_to_select': 2}</td>\n",
       "      <td>0.654136</td>\n",
       "      <td>0.532348</td>\n",
       "      <td>0.583557</td>\n",
       "      <td>0.590013</td>\n",
       "      <td>0.049929</td>\n",
       "      <td>6</td>\n",
       "      <td>0.573583</td>\n",
       "      <td>0.631849</td>\n",
       "      <td>0.615612</td>\n",
       "      <td>0.607015</td>\n",
       "      <td>0.024552</td>\n",
       "    </tr>\n",
       "    <tr>\n",
       "      <th>2</th>\n",
       "      <td>0.004322</td>\n",
       "      <td>4.705837e-04</td>\n",
       "      <td>0.000997</td>\n",
       "      <td>5.947204e-07</td>\n",
       "      <td>3</td>\n",
       "      <td>{'n_features_to_select': 3}</td>\n",
       "      <td>0.740114</td>\n",
       "      <td>0.679724</td>\n",
       "      <td>0.700330</td>\n",
       "      <td>0.706723</td>\n",
       "      <td>0.025065</td>\n",
       "      <td>5</td>\n",
       "      <td>0.703428</td>\n",
       "      <td>0.734939</td>\n",
       "      <td>0.730954</td>\n",
       "      <td>0.723107</td>\n",
       "      <td>0.014010</td>\n",
       "    </tr>\n",
       "    <tr>\n",
       "      <th>3</th>\n",
       "      <td>0.004322</td>\n",
       "      <td>4.701341e-04</td>\n",
       "      <td>0.000997</td>\n",
       "      <td>1.946680e-07</td>\n",
       "      <td>4</td>\n",
       "      <td>{'n_features_to_select': 4}</td>\n",
       "      <td>0.740271</td>\n",
       "      <td>0.679937</td>\n",
       "      <td>0.700564</td>\n",
       "      <td>0.706924</td>\n",
       "      <td>0.025039</td>\n",
       "      <td>4</td>\n",
       "      <td>0.703623</td>\n",
       "      <td>0.734995</td>\n",
       "      <td>0.730994</td>\n",
       "      <td>0.723204</td>\n",
       "      <td>0.013942</td>\n",
       "    </tr>\n",
       "    <tr>\n",
       "      <th>4</th>\n",
       "      <td>0.003325</td>\n",
       "      <td>4.699655e-04</td>\n",
       "      <td>0.000997</td>\n",
       "      <td>4.495664e-07</td>\n",
       "      <td>5</td>\n",
       "      <td>{'n_features_to_select': 5}</td>\n",
       "      <td>0.769367</td>\n",
       "      <td>0.713009</td>\n",
       "      <td>0.742966</td>\n",
       "      <td>0.741781</td>\n",
       "      <td>0.023023</td>\n",
       "      <td>3</td>\n",
       "      <td>0.771053</td>\n",
       "      <td>0.761193</td>\n",
       "      <td>0.786146</td>\n",
       "      <td>0.772797</td>\n",
       "      <td>0.010261</td>\n",
       "    </tr>\n",
       "    <tr>\n",
       "      <th>5</th>\n",
       "      <td>0.002992</td>\n",
       "      <td>2.247832e-07</td>\n",
       "      <td>0.000997</td>\n",
       "      <td>1.123916e-07</td>\n",
       "      <td>6</td>\n",
       "      <td>{'n_features_to_select': 6}</td>\n",
       "      <td>0.775868</td>\n",
       "      <td>0.790319</td>\n",
       "      <td>0.749598</td>\n",
       "      <td>0.771928</td>\n",
       "      <td>0.016856</td>\n",
       "      <td>2</td>\n",
       "      <td>0.772222</td>\n",
       "      <td>0.821296</td>\n",
       "      <td>0.789059</td>\n",
       "      <td>0.794192</td>\n",
       "      <td>0.020360</td>\n",
       "    </tr>\n",
       "    <tr>\n",
       "      <th>6</th>\n",
       "      <td>0.001994</td>\n",
       "      <td>2.973602e-07</td>\n",
       "      <td>0.001330</td>\n",
       "      <td>4.702465e-04</td>\n",
       "      <td>7</td>\n",
       "      <td>{'n_features_to_select': 7}</td>\n",
       "      <td>0.812089</td>\n",
       "      <td>0.787531</td>\n",
       "      <td>0.803227</td>\n",
       "      <td>0.800949</td>\n",
       "      <td>0.010155</td>\n",
       "      <td>1</td>\n",
       "      <td>0.813285</td>\n",
       "      <td>0.821375</td>\n",
       "      <td>0.819866</td>\n",
       "      <td>0.818176</td>\n",
       "      <td>0.003512</td>\n",
       "    </tr>\n",
       "  </tbody>\n",
       "</table>\n",
       "</div>"
      ],
      "text/plain": [
       "   mean_fit_time  std_fit_time  mean_score_time  std_score_time  \\\n",
       "0       0.006318  4.713705e-04         0.000997    2.247832e-07   \n",
       "1       0.004987  1.123916e-07         0.000997    1.123916e-07   \n",
       "2       0.004322  4.705837e-04         0.000997    5.947204e-07   \n",
       "3       0.004322  4.701341e-04         0.000997    1.946680e-07   \n",
       "4       0.003325  4.699655e-04         0.000997    4.495664e-07   \n",
       "5       0.002992  2.247832e-07         0.000997    1.123916e-07   \n",
       "6       0.001994  2.973602e-07         0.001330    4.702465e-04   \n",
       "\n",
       "  param_n_features_to_select                       params  split0_test_score  \\\n",
       "0                          1  {'n_features_to_select': 1}           0.629961   \n",
       "1                          2  {'n_features_to_select': 2}           0.654136   \n",
       "2                          3  {'n_features_to_select': 3}           0.740114   \n",
       "3                          4  {'n_features_to_select': 4}           0.740271   \n",
       "4                          5  {'n_features_to_select': 5}           0.769367   \n",
       "5                          6  {'n_features_to_select': 6}           0.775868   \n",
       "6                          7  {'n_features_to_select': 7}           0.812089   \n",
       "\n",
       "   split1_test_score  split2_test_score  mean_test_score  std_test_score  \\\n",
       "0           0.528002           0.543494         0.567153        0.044861   \n",
       "1           0.532348           0.583557         0.590013        0.049929   \n",
       "2           0.679724           0.700330         0.706723        0.025065   \n",
       "3           0.679937           0.700564         0.706924        0.025039   \n",
       "4           0.713009           0.742966         0.741781        0.023023   \n",
       "5           0.790319           0.749598         0.771928        0.016856   \n",
       "6           0.787531           0.803227         0.800949        0.010155   \n",
       "\n",
       "   rank_test_score  split0_train_score  split1_train_score  \\\n",
       "0                7            0.547141            0.597118   \n",
       "1                6            0.573583            0.631849   \n",
       "2                5            0.703428            0.734939   \n",
       "3                4            0.703623            0.734995   \n",
       "4                3            0.771053            0.761193   \n",
       "5                2            0.772222            0.821296   \n",
       "6                1            0.813285            0.821375   \n",
       "\n",
       "   split2_train_score  mean_train_score  std_train_score  \n",
       "0            0.599375          0.581211         0.024109  \n",
       "1            0.615612          0.607015         0.024552  \n",
       "2            0.730954          0.723107         0.014010  \n",
       "3            0.730994          0.723204         0.013942  \n",
       "4            0.786146          0.772797         0.010261  \n",
       "5            0.789059          0.794192         0.020360  \n",
       "6            0.819866          0.818176         0.003512  "
      ]
     },
     "execution_count": 56,
     "metadata": {},
     "output_type": "execute_result"
    }
   ],
   "source": [
    "pd.DataFrame(gsearch.cv_results_)"
   ]
  },
  {
   "cell_type": "markdown",
   "metadata": {},
   "source": [
    "# Forward selection to decide the best number of features to keep in the model(Step Forward Selection)"
   ]
  },
  {
   "cell_type": "code",
   "execution_count": 57,
   "metadata": {},
   "outputs": [],
   "source": [
    "from mlxtend.feature_selection import SequentialFeatureSelector as sfs"
   ]
  },
  {
   "cell_type": "code",
   "execution_count": 58,
   "metadata": {},
   "outputs": [
    {
     "name": "stderr",
     "output_type": "stream",
     "text": [
      "[Parallel(n_jobs=1)]: Using backend SequentialBackend with 1 concurrent workers.\n",
      "[Parallel(n_jobs=1)]: Done   1 out of   1 | elapsed:    0.0s remaining:    0.0s\n",
      "[Parallel(n_jobs=1)]: Done   7 out of   7 | elapsed:    0.0s finished\n",
      "\n",
      "[2020-03-20 13:34:55] Features: 1/7 -- score: 0.674676419825564[Parallel(n_jobs=1)]: Using backend SequentialBackend with 1 concurrent workers.\n",
      "[Parallel(n_jobs=1)]: Done   1 out of   1 | elapsed:    0.0s remaining:    0.0s\n",
      "[Parallel(n_jobs=1)]: Done   6 out of   6 | elapsed:    0.0s finished\n",
      "\n",
      "[2020-03-20 13:34:55] Features: 2/7 -- score: 0.7983050072830365[Parallel(n_jobs=1)]: Using backend SequentialBackend with 1 concurrent workers.\n",
      "[Parallel(n_jobs=1)]: Done   1 out of   1 | elapsed:    0.0s remaining:    0.0s\n",
      "[Parallel(n_jobs=1)]: Done   5 out of   5 | elapsed:    0.0s finished\n",
      "\n",
      "[2020-03-20 13:34:56] Features: 3/7 -- score: 0.8054206252921238[Parallel(n_jobs=1)]: Using backend SequentialBackend with 1 concurrent workers.\n",
      "[Parallel(n_jobs=1)]: Done   1 out of   1 | elapsed:    0.0s remaining:    0.0s\n",
      "[Parallel(n_jobs=1)]: Done   4 out of   4 | elapsed:    0.0s finished\n",
      "\n",
      "[2020-03-20 13:34:56] Features: 4/7 -- score: 0.8059069018427713[Parallel(n_jobs=1)]: Using backend SequentialBackend with 1 concurrent workers.\n",
      "[Parallel(n_jobs=1)]: Done   1 out of   1 | elapsed:    0.0s remaining:    0.0s\n",
      "[Parallel(n_jobs=1)]: Done   3 out of   3 | elapsed:    0.0s finished\n",
      "\n",
      "[2020-03-20 13:34:56] Features: 5/7 -- score: 0.8057691700511983[Parallel(n_jobs=1)]: Using backend SequentialBackend with 1 concurrent workers.\n",
      "[Parallel(n_jobs=1)]: Done   1 out of   1 | elapsed:    0.0s remaining:    0.0s\n",
      "[Parallel(n_jobs=1)]: Done   2 out of   2 | elapsed:    0.0s finished\n",
      "\n",
      "[2020-03-20 13:34:56] Features: 6/7 -- score: 0.8046700096659428[Parallel(n_jobs=1)]: Using backend SequentialBackend with 1 concurrent workers.\n",
      "[Parallel(n_jobs=1)]: Done   1 out of   1 | elapsed:    0.0s remaining:    0.0s\n",
      "[Parallel(n_jobs=1)]: Done   1 out of   1 | elapsed:    0.0s finished\n",
      "\n",
      "[2020-03-20 13:34:56] Features: 7/7 -- score: 0.8009489017791539"
     ]
    },
    {
     "data": {
      "text/plain": [
       "SequentialFeatureSelector(clone_estimator=True, cv=3,\n",
       "                          estimator=LinearRegression(copy_X=True,\n",
       "                                                     fit_intercept=True,\n",
       "                                                     n_jobs=None,\n",
       "                                                     normalize=False),\n",
       "                          fixed_features=None, floating=False, forward=True,\n",
       "                          k_features=7, n_jobs=1, pre_dispatch='2*n_jobs',\n",
       "                          scoring='r2', verbose=2)"
      ]
     },
     "execution_count": 58,
     "metadata": {},
     "output_type": "execute_result"
    }
   ],
   "source": [
    "lr = LinearRegression()\n",
    "sfs1 = sfs(lr,k_features = 7,scoring = 'r2',cv = 3,verbose = 2)\n",
    "sfs1.fit(X,y)"
   ]
  },
  {
   "cell_type": "code",
   "execution_count": 59,
   "metadata": {},
   "outputs": [
    {
     "data": {
      "text/html": [
       "<div>\n",
       "<style scoped>\n",
       "    .dataframe tbody tr th:only-of-type {\n",
       "        vertical-align: middle;\n",
       "    }\n",
       "\n",
       "    .dataframe tbody tr th {\n",
       "        vertical-align: top;\n",
       "    }\n",
       "\n",
       "    .dataframe thead th {\n",
       "        text-align: right;\n",
       "    }\n",
       "</style>\n",
       "<table border=\"1\" class=\"dataframe\">\n",
       "  <thead>\n",
       "    <tr style=\"text-align: right;\">\n",
       "      <th></th>\n",
       "      <th>feature_idx</th>\n",
       "      <th>cv_scores</th>\n",
       "      <th>avg_score</th>\n",
       "      <th>feature_names</th>\n",
       "    </tr>\n",
       "  </thead>\n",
       "  <tbody>\n",
       "    <tr>\n",
       "      <th>1</th>\n",
       "      <td>(3,)</td>\n",
       "      <td>[0.6935447775629311, 0.6580515929623366, 0.672...</td>\n",
       "      <td>0.674676</td>\n",
       "      <td>(wt,)</td>\n",
       "    </tr>\n",
       "    <tr>\n",
       "      <th>2</th>\n",
       "      <td>(3, 5)</td>\n",
       "      <td>[0.8222837857449261, 0.7870157120569722, 0.785...</td>\n",
       "      <td>0.798305</td>\n",
       "      <td>(wt, yr)</td>\n",
       "    </tr>\n",
       "    <tr>\n",
       "      <th>3</th>\n",
       "      <td>(3, 5, 6)</td>\n",
       "      <td>[0.8295672070713475, 0.7868035726500173, 0.799...</td>\n",
       "      <td>0.805421</td>\n",
       "      <td>(wt, yr, origin)</td>\n",
       "    </tr>\n",
       "    <tr>\n",
       "      <th>4</th>\n",
       "      <td>(3, 4, 5, 6)</td>\n",
       "      <td>[0.8288466833922814, 0.7887956911240924, 0.800...</td>\n",
       "      <td>0.805907</td>\n",
       "      <td>(wt, acc, yr, origin)</td>\n",
       "    </tr>\n",
       "    <tr>\n",
       "      <th>5</th>\n",
       "      <td>(0, 3, 4, 5, 6)</td>\n",
       "      <td>[0.8270457631948078, 0.7895743150958967, 0.800...</td>\n",
       "      <td>0.805769</td>\n",
       "      <td>(cyl, wt, acc, yr, origin)</td>\n",
       "    </tr>\n",
       "    <tr>\n",
       "      <th>6</th>\n",
       "      <td>(0, 1, 3, 4, 5, 6)</td>\n",
       "      <td>[0.8210753646365103, 0.7903193643415838, 0.802...</td>\n",
       "      <td>0.80467</td>\n",
       "      <td>(cyl, disp, wt, acc, yr, origin)</td>\n",
       "    </tr>\n",
       "    <tr>\n",
       "      <th>7</th>\n",
       "      <td>(0, 1, 2, 3, 4, 5, 6)</td>\n",
       "      <td>[0.8120892839509759, 0.7875307378913221, 0.803...</td>\n",
       "      <td>0.800949</td>\n",
       "      <td>(cyl, disp, hp, wt, acc, yr, origin)</td>\n",
       "    </tr>\n",
       "  </tbody>\n",
       "</table>\n",
       "</div>"
      ],
      "text/plain": [
       "             feature_idx                                          cv_scores  \\\n",
       "1                   (3,)  [0.6935447775629311, 0.6580515929623366, 0.672...   \n",
       "2                 (3, 5)  [0.8222837857449261, 0.7870157120569722, 0.785...   \n",
       "3              (3, 5, 6)  [0.8295672070713475, 0.7868035726500173, 0.799...   \n",
       "4           (3, 4, 5, 6)  [0.8288466833922814, 0.7887956911240924, 0.800...   \n",
       "5        (0, 3, 4, 5, 6)  [0.8270457631948078, 0.7895743150958967, 0.800...   \n",
       "6     (0, 1, 3, 4, 5, 6)  [0.8210753646365103, 0.7903193643415838, 0.802...   \n",
       "7  (0, 1, 2, 3, 4, 5, 6)  [0.8120892839509759, 0.7875307378913221, 0.803...   \n",
       "\n",
       "  avg_score                         feature_names  \n",
       "1  0.674676                                 (wt,)  \n",
       "2  0.798305                              (wt, yr)  \n",
       "3  0.805421                      (wt, yr, origin)  \n",
       "4  0.805907                 (wt, acc, yr, origin)  \n",
       "5  0.805769            (cyl, wt, acc, yr, origin)  \n",
       "6   0.80467      (cyl, disp, wt, acc, yr, origin)  \n",
       "7  0.800949  (cyl, disp, hp, wt, acc, yr, origin)  "
      ]
     },
     "execution_count": 59,
     "metadata": {},
     "output_type": "execute_result"
    }
   ],
   "source": [
    "sf = pd.DataFrame(sfs1.subsets_).T\n",
    "sf"
   ]
  },
  {
   "cell_type": "code",
   "execution_count": 60,
   "metadata": {},
   "outputs": [
    {
     "data": {
      "text/plain": [
       "[<matplotlib.lines.Line2D at 0x16466316668>]"
      ]
     },
     "execution_count": 60,
     "metadata": {},
     "output_type": "execute_result"
    },
    {
     "data": {
      "image/png": "[encoded data removed]",
      "text/plain": [
       "<Figure size 1080x648 with 1 Axes>"
      ]
     },
     "metadata": {},
     "output_type": "display_data"
    }
   ],
   "source": [
    "plt.plot(sf['avg_score'])"
   ]
  },
  {
   "cell_type": "code",
   "execution_count": 61,
   "metadata": {},
   "outputs": [
    {
     "data": {
      "text/plain": [
       "['cyl', 'disp', 'hp', 'wt', 'acc', 'yr', 'origin']"
      ]
     },
     "execution_count": 61,
     "metadata": {},
     "output_type": "execute_result"
    }
   ],
   "source": [
    "cols = list(sfs1.k_feature_names_)\n",
    "cols"
   ]
  },
  {
   "cell_type": "code",
   "execution_count": 62,
   "metadata": {},
   "outputs": [
    {
     "data": {
      "text/plain": [
       "[<matplotlib.lines.Line2D at 0x16466ae91d0>]"
      ]
     },
     "execution_count": 62,
     "metadata": {},
     "output_type": "execute_result"
    },
    {
     "data": {
      "image/png": "[encoded data removed]",
      "text/plain": [
       "<Figure size 1080x648 with 1 Axes>"
      ]
     },
     "metadata": {},
     "output_type": "display_data"
    }
   ],
   "source": [
    "X_train, X_test, y_train, y_test = train_test_split(X[cols], y, test_size=0.3, random_state=3)\n",
    "\n",
    "lr.fit(X_train, y_train)\n",
    "y_test_pred = lr.predict(X_test)\n",
    "\n",
    "plt.scatter(y_test, y_test_pred)\n",
    "plt.plot(y_test, y_test,'r')"
   ]
  },
  {
   "cell_type": "markdown",
   "metadata": {},
   "source": [
    "# Building Linear Regression Model"
   ]
  },
  {
   "cell_type": "code",
   "execution_count": 63,
   "metadata": {},
   "outputs": [],
   "source": [
    "y = c_df['mpg']\n",
    "X = c_df.drop('mpg',axis = 1)"
   ]
  },
  {
   "cell_type": "code",
   "execution_count": 64,
   "metadata": {},
   "outputs": [],
   "source": [
    "from sklearn.model_selection import train_test_split\n",
    "X_train, X_test, y_train, y_test = train_test_split(X, y, test_size=0.30, random_state=3)"
   ]
  },
  {
   "cell_type": "code",
   "execution_count": 65,
   "metadata": {},
   "outputs": [
    {
     "name": "stdout",
     "output_type": "stream",
     "text": [
      "(270, 7) (117, 7)\n"
     ]
    }
   ],
   "source": [
    "print(X_train.shape,X_test.shape)"
   ]
  },
  {
   "cell_type": "code",
   "execution_count": 1,
   "metadata": {},
   "outputs": [
    {
     "ename": "NameError",
     "evalue": "name 'X_train' is not defined",
     "output_type": "error",
     "traceback": [
      "\u001b[1;31m---------------------------------------------------------------------------\u001b[0m",
      "\u001b[1;31mNameError\u001b[0m                                 Traceback (most recent call last)",
      "\u001b[1;32m<ipython-input-1-07a0c30c2e23>\u001b[0m in \u001b[0;36m<module>\u001b[1;34m\u001b[0m\n\u001b[0;32m      3\u001b[0m \u001b[1;33m\u001b[0m\u001b[0m\n\u001b[0;32m      4\u001b[0m \u001b[0mlr\u001b[0m \u001b[1;33m=\u001b[0m \u001b[0mLinearRegression\u001b[0m\u001b[1;33m(\u001b[0m\u001b[1;33m)\u001b[0m\u001b[1;33m\u001b[0m\u001b[1;33m\u001b[0m\u001b[0m\n\u001b[1;32m----> 5\u001b[1;33m \u001b[0mlr\u001b[0m\u001b[1;33m.\u001b[0m\u001b[0mfit\u001b[0m\u001b[1;33m(\u001b[0m\u001b[0mX_train\u001b[0m\u001b[1;33m,\u001b[0m\u001b[0my_train\u001b[0m\u001b[1;33m)\u001b[0m\u001b[1;33m\u001b[0m\u001b[1;33m\u001b[0m\u001b[0m\n\u001b[0m\u001b[0;32m      6\u001b[0m \u001b[1;33m\u001b[0m\u001b[0m\n\u001b[0;32m      7\u001b[0m \u001b[1;33m\u001b[0m\u001b[0m\n",
      "\u001b[1;31mNameError\u001b[0m: name 'X_train' is not defined"
     ]
    }
   ],
   "source": [
    "from sklearn.linear_model import LinearRegression\n",
    "from sklearn.metrics import r2_score,mean_squared_error\n",
    "\n",
    "lr = LinearRegression()\n",
    "lr.fit(X_train,y_train)\n",
    "\n",
    "\n",
    "y_test_pred = lr.predict(X_test)\n",
    "y_train_pred = lr.predict(X_train)\n",
    "print('r-square for train: ', r2_score(y_train,y_train_pred))\n",
    "print('RMSE for train: ',np.sqrt(mean_squared_error(y_train,y_train_pred)))\n",
    "\n",
    "print('\\n')\n",
    "print('r-square for test: ', r2_score(y_test,y_test_pred))\n",
    "print('RMSE for test: ', np.sqrt(mean_squared_error(y_test,y_test_pred)))"
   ]
  },
  {
   "cell_type": "markdown",
   "metadata": {},
   "source": [
    "# Regularization Techniques"
   ]
  },
  {
   "cell_type": "markdown",
   "metadata": {},
   "source": [
    "# 1.Lasso"
   ]
  },
  {
   "cell_type": "code",
   "execution_count": 67,
   "metadata": {},
   "outputs": [],
   "source": [
    "from sklearn.linear_model import Lasso,LassoCV"
   ]
  },
  {
   "cell_type": "code",
   "execution_count": 68,
   "metadata": {},
   "outputs": [
    {
     "data": {
      "text/plain": [
       "LassoCV(alphas=array([1.000e-04, 1.020e-02, 2.030e-02, 3.040e-02, 4.050e-02, 5.060e-02,\n",
       "       6.070e-02, 7.080e-02, 8.090e-02, 9.100e-02, 1.011e-01, 1.112e-01,\n",
       "       1.213e-01, 1.314e-01, 1.415e-01, 1.516e-01, 1.617e-01, 1.718e-01,\n",
       "       1.819e-01, 1.920e-01, 2.021e-01, 2.122e-01, 2.223e-01, 2.324e-01,\n",
       "       2.425e-01, 2.526e-01, 2.627e-01, 2.728e-01, 2.829e-01, 2.930e-01,\n",
       "       3.031e-01, 3.132e-01, 3.233e-0...\n",
       "       8.485e-01, 8.586e-01, 8.687e-01, 8.788e-01, 8.889e-01, 8.990e-01,\n",
       "       9.091e-01, 9.192e-01, 9.293e-01, 9.394e-01, 9.495e-01, 9.596e-01,\n",
       "       9.697e-01, 9.798e-01, 9.899e-01, 1.000e+00]),\n",
       "        copy_X=True, cv=3, eps=0.001, fit_intercept=True, max_iter=1000,\n",
       "        n_alphas=100, n_jobs=None, normalize=False, positive=False,\n",
       "        precompute='auto', random_state=3, selection='cyclic', tol=0.0001,\n",
       "        verbose=False)"
      ]
     },
     "execution_count": 68,
     "metadata": {},
     "output_type": "execute_result"
    }
   ],
   "source": [
    "alphas = np.linspace(0.0001,1,100)\n",
    "lasso_cv = LassoCV(alphas = alphas,cv = 3,random_state=3)\n",
    "lasso_cv.fit(X,y)\n",
    "lasso_cv"
   ]
  },
  {
   "cell_type": "code",
   "execution_count": 69,
   "metadata": {},
   "outputs": [
    {
     "data": {
      "text/plain": [
       "0.0809"
      ]
     },
     "execution_count": 69,
     "metadata": {},
     "output_type": "execute_result"
    }
   ],
   "source": [
    "lasso_cv.alpha_   #best alpha"
   ]
  },
  {
   "cell_type": "code",
   "execution_count": 70,
   "metadata": {},
   "outputs": [
    {
     "name": "stdout",
     "output_type": "stream",
     "text": [
      "r-square of Train:  0.8069823816869933\n",
      "r-square of Test:  0.8257877565244663\n"
     ]
    }
   ],
   "source": [
    "lasso = Lasso(alpha=lasso_cv.alpha_,random_state=3)\n",
    "\n",
    "lasso.fit(X_train,y_train)\n",
    "y_train_pred = lasso.predict(X_train)\n",
    "y_test_pred = lasso.predict(X_test)\n",
    "\n",
    "print('r-square of Train: ',r2_score(y_train,y_train_pred))\n",
    "print('r-square of Test: ',r2_score(y_test,y_test_pred))"
   ]
  },
  {
   "cell_type": "code",
   "execution_count": 71,
   "metadata": {},
   "outputs": [
    {
     "data": {
      "text/plain": [
       "array([-0.19457009,  0.01871009, -0.03201402, -0.00673211,  0.02357724,\n",
       "        0.75522548,  1.02162065])"
      ]
     },
     "execution_count": 71,
     "metadata": {},
     "output_type": "execute_result"
    }
   ],
   "source": [
    "lasso.coef_"
   ]
  },
  {
   "cell_type": "markdown",
   "metadata": {},
   "source": [
    "# 2.Ridge"
   ]
  },
  {
   "cell_type": "code",
   "execution_count": 72,
   "metadata": {},
   "outputs": [],
   "source": [
    "from sklearn.linear_model import Ridge,RidgeCV"
   ]
  },
  {
   "cell_type": "code",
   "execution_count": 73,
   "metadata": {},
   "outputs": [
    {
     "data": {
      "text/plain": [
       "RidgeCV(alphas=array([ 1.        ,  1.01163798,  1.0234114 ,  1.03532184,  1.0473709 ,\n",
       "        1.05956018,  1.07189132,  1.08436597,  1.0969858 ,  1.1097525 ,\n",
       "        1.12266777,  1.13573336,  1.148951  ,  1.16232247,  1.17584955,\n",
       "        1.18953407,  1.20337784,  1.21738273,  1.2315506 ,  1.24588336,\n",
       "        1.26038293,  1.27505124,  1.28989026,  1.30490198,  1.3200884 ,\n",
       "        1.33545156,  1.35099352,  1.36671636,  1.38262217,  1.3987131 ,\n",
       "        1.4149913 ,  1.431...\n",
       "        7.57525026,  7.66341087,  7.75259749,  7.84282206,  7.93409667,\n",
       "        8.02643352,  8.11984499,  8.21434358,  8.30994195,  8.40665289,\n",
       "        8.50448934,  8.60346442,  8.70359136,  8.80488358,  8.90735464,\n",
       "        9.01101825,  9.1158883 ,  9.22197882,  9.32930403,  9.43787828,\n",
       "        9.54771611,  9.65883224,  9.77124154,  9.88495905, 10.        ]),\n",
       "        cv=3, fit_intercept=True, gcv_mode=None, normalize=False, scoring='r2',\n",
       "        store_cv_values=False)"
      ]
     },
     "execution_count": 73,
     "metadata": {},
     "output_type": "execute_result"
    }
   ],
   "source": [
    "alphas = np.logspace(0,1,200)\n",
    "ridge_cv = RidgeCV(alphas = alphas,scoring = 'r2',cv = 3)\n",
    "ridge_cv.fit(X,y)\n",
    "ridge_cv"
   ]
  },
  {
   "cell_type": "code",
   "execution_count": 74,
   "metadata": {},
   "outputs": [
    {
     "data": {
      "text/plain": [
       "10.0"
      ]
     },
     "execution_count": 74,
     "metadata": {},
     "output_type": "execute_result"
    }
   ],
   "source": [
    "ridge_cv.alpha_"
   ]
  },
  {
   "cell_type": "markdown",
   "metadata": {},
   "source": [
    "# 3.Elastic Net"
   ]
  },
  {
   "cell_type": "code",
   "execution_count": 75,
   "metadata": {},
   "outputs": [],
   "source": [
    "from sklearn.linear_model import ElasticNet,ElasticNetCV"
   ]
  },
  {
   "cell_type": "code",
   "execution_count": 76,
   "metadata": {},
   "outputs": [
    {
     "data": {
      "text/plain": [
       "ElasticNetCV(alphas=array([1.00000000e-04, 1.09749877e-04, 1.20450354e-04, 1.32194115e-04,\n",
       "       1.45082878e-04, 1.59228279e-04, 1.74752840e-04, 1.91791026e-04,\n",
       "       2.10490414e-04, 2.31012970e-04, 2.53536449e-04, 2.78255940e-04,\n",
       "       3.05385551e-04, 3.35160265e-04, 3.67837977e-04, 4.03701726e-04,\n",
       "       4.43062146e-04, 4.86260158e-04, 5.33669923e-04, 5.85702082e-04,\n",
       "       6.42807312e-04, 7.054802...\n",
       "       3.59381366e-01, 3.94420606e-01, 4.32876128e-01, 4.75081016e-01,\n",
       "       5.21400829e-01, 5.72236766e-01, 6.28029144e-01, 6.89261210e-01,\n",
       "       7.56463328e-01, 8.30217568e-01, 9.11162756e-01, 1.00000000e+00]),\n",
       "             copy_X=True, cv=3, eps=0.001, fit_intercept=True, l1_ratio=0.5,\n",
       "             max_iter=1000, n_alphas=100, n_jobs=None, normalize=False,\n",
       "             positive=False, precompute='auto', random_state=3,\n",
       "             selection='cyclic', tol=0.0001, verbose=0)"
      ]
     },
     "execution_count": 76,
     "metadata": {},
     "output_type": "execute_result"
    }
   ],
   "source": [
    "alphas = np.logspace(-4,0,100)\n",
    "en_cv = ElasticNetCV(alphas = alphas, cv = 3, random_state=3)\n",
    "en_cv.fit(X,y)\n",
    "en_cv"
   ]
  },
  {
   "cell_type": "code",
   "execution_count": 77,
   "metadata": {},
   "outputs": [
    {
     "data": {
      "text/plain": [
       "0.08111308307896872"
      ]
     },
     "execution_count": 77,
     "metadata": {},
     "output_type": "execute_result"
    }
   ],
   "source": [
    "en_cv.alpha_"
   ]
  },
  {
   "cell_type": "code",
   "execution_count": null,
   "metadata": {},
   "outputs": [],
   "source": []
  }
 ],
 "metadata": {
  "kernelspec": {
   "display_name": "Python 3",
   "language": "python",
   "name": "python3"
  },
  "language_info": {
   "codemirror_mode": {
    "name": "ipython",
    "version": 3
   },
   "file_extension": ".py",
   "mimetype": "text/x-python",
   "name": "python",
   "nbconvert_exporter": "python",
   "pygments_lexer": "ipython3",
   "version": "3.6.9"
  }
 },
 "nbformat": 4,
 "nbformat_minor": 2
}
